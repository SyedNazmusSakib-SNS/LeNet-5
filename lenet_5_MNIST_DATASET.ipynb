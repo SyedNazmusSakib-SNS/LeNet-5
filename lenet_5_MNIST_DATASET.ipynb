{
 "cells": [
  {
   "cell_type": "code",
   "execution_count": 1,
   "metadata": {},
   "outputs": [],
   "source": [
    "import torch\n",
    "import torch.nn as nn\n",
    "import torchvision\n",
    "import torchvision.transforms as transforms\n",
    "import torch.optim as optim"
   ]
  },
  {
   "cell_type": "markdown",
   "metadata": {},
   "source": [
    "# LeNet Architecture"
   ]
  },
  {
   "cell_type": "code",
   "execution_count": 2,
   "metadata": {},
   "outputs": [],
   "source": [
    "class LeNet(nn.Module):\n",
    "    def __init__(self):\n",
    "        super(LeNet, self).__init__()\n",
    "        self.relu = nn.ReLU()\n",
    "        self.pool = nn.MaxPool2d(kernel_size=(2, 2), stride=(2, 2))\n",
    "        self.conv1 = nn.Conv2d(in_channels=1, out_channels=6, kernel_size=(5, 5), stride=(1, 1), padding=(0, 0))\n",
    "        self.conv2 = nn.Conv2d(in_channels=6, out_channels=16, kernel_size=(5, 5), stride=(1, 1), padding=(0, 0))\n",
    "        self.conv3 = nn.Conv2d(in_channels=16, out_channels=120, kernel_size=(4, 4), stride=(1, 1), padding=(0, 0))\n",
    "        self.linear1 = nn.Linear(120, 84)\n",
    "        self.linear2 = nn.Linear(84, 10)\n",
    "\n",
    "    def forward(self, x):\n",
    "        x = self.relu(self.conv1(x))\n",
    "        x = self.pool(x)\n",
    "        x = self.relu(self.conv2(x))\n",
    "        x = self.pool(x)\n",
    "        x = self.relu(self.conv3(x))\n",
    "        x = x.reshape(x.shape[0], -1)\n",
    "        x = self.relu(self.linear1(x))\n",
    "        x = self.linear2(x)\n",
    "\n",
    "        return x"
   ]
  },
  {
   "cell_type": "markdown",
   "metadata": {},
   "source": [
    "# Define the transform to normalize the data"
   ]
  },
  {
   "cell_type": "code",
   "execution_count": 3,
   "metadata": {},
   "outputs": [],
   "source": [
    "transform = transforms.Compose([\n",
    "    transforms.ToTensor(),\n",
    "    transforms.Normalize((0.5,), (0.5,))  # Normalizes the grayscale values to range [-1, 1]\n",
    "])"
   ]
  },
  {
   "cell_type": "markdown",
   "metadata": {},
   "source": [
    "# Download and load the training data"
   ]
  },
  {
   "cell_type": "code",
   "execution_count": 4,
   "metadata": {},
   "outputs": [],
   "source": [
    "trainset = torchvision.datasets.MNIST(root='./data', train=True, download=True, transform=transform)\n",
    "trainloader = torch.utils.data.DataLoader(trainset, batch_size=32, shuffle=True)"
   ]
  },
  {
   "cell_type": "markdown",
   "metadata": {},
   "source": [
    "# Download and load the test data"
   ]
  },
  {
   "cell_type": "code",
   "execution_count": 5,
   "metadata": {},
   "outputs": [],
   "source": [
    "testset = torchvision.datasets.MNIST(root='./data', train=False, download=True, transform=transform)\n",
    "testloader = torch.utils.data.DataLoader(testset, batch_size=32, shuffle=False)"
   ]
  },
  {
   "cell_type": "markdown",
   "metadata": {},
   "source": [
    "# Initialize the network"
   ]
  },
  {
   "cell_type": "code",
   "execution_count": 6,
   "metadata": {},
   "outputs": [],
   "source": [
    "net = LeNet()"
   ]
  },
  {
   "cell_type": "markdown",
   "metadata": {},
   "source": [
    "# Define the loss function and optimizer"
   ]
  },
  {
   "cell_type": "code",
   "execution_count": 7,
   "metadata": {},
   "outputs": [],
   "source": [
    "criterion = nn.CrossEntropyLoss()\n",
    "optimizer = optim.SGD(net.parameters(), lr=0.001, momentum=0.9)"
   ]
  },
  {
   "cell_type": "markdown",
   "metadata": {},
   "source": [
    "# Training loop"
   ]
  },
  {
   "cell_type": "code",
   "execution_count": 8,
   "metadata": {},
   "outputs": [
    {
     "name": "stdout",
     "output_type": "stream",
     "text": [
      "[1, 100] loss: 2.306\n",
      "[1, 200] loss: 2.299\n",
      "[1, 300] loss: 2.292\n",
      "[1, 400] loss: 2.280\n",
      "[1, 500] loss: 2.259\n",
      "[1, 600] loss: 2.219\n",
      "[1, 700] loss: 2.097\n",
      "[1, 800] loss: 1.705\n",
      "[1, 900] loss: 1.151\n",
      "[1, 1000] loss: 0.828\n",
      "[1, 1100] loss: 0.592\n",
      "[1, 1200] loss: 0.448\n",
      "[1, 1300] loss: 0.362\n",
      "[1, 1400] loss: 0.356\n",
      "[1, 1500] loss: 0.309\n",
      "[1, 1600] loss: 0.247\n",
      "[1, 1700] loss: 0.251\n",
      "[1, 1800] loss: 0.246\n",
      "[2, 100] loss: 0.219\n",
      "[2, 200] loss: 0.195\n",
      "[2, 300] loss: 0.179\n",
      "[2, 400] loss: 0.180\n",
      "[2, 500] loss: 0.182\n",
      "[2, 600] loss: 0.173\n",
      "[2, 700] loss: 0.175\n",
      "[2, 800] loss: 0.166\n",
      "[2, 900] loss: 0.156\n",
      "[2, 1000] loss: 0.150\n",
      "[2, 1100] loss: 0.132\n",
      "[2, 1200] loss: 0.143\n",
      "[2, 1300] loss: 0.137\n",
      "[2, 1400] loss: 0.125\n",
      "[2, 1500] loss: 0.151\n",
      "[2, 1600] loss: 0.146\n",
      "[2, 1700] loss: 0.137\n",
      "[2, 1800] loss: 0.125\n",
      "[3, 100] loss: 0.101\n",
      "[3, 200] loss: 0.118\n",
      "[3, 300] loss: 0.112\n",
      "[3, 400] loss: 0.107\n",
      "[3, 500] loss: 0.114\n",
      "[3, 600] loss: 0.099\n",
      "[3, 700] loss: 0.117\n",
      "[3, 800] loss: 0.088\n",
      "[3, 900] loss: 0.108\n",
      "[3, 1000] loss: 0.087\n",
      "[3, 1100] loss: 0.113\n",
      "[3, 1200] loss: 0.101\n",
      "[3, 1300] loss: 0.098\n",
      "[3, 1400] loss: 0.107\n",
      "[3, 1500] loss: 0.106\n",
      "[3, 1600] loss: 0.092\n",
      "[3, 1700] loss: 0.101\n",
      "[3, 1800] loss: 0.080\n",
      "[4, 100] loss: 0.079\n",
      "[4, 200] loss: 0.089\n",
      "[4, 300] loss: 0.080\n",
      "[4, 400] loss: 0.082\n",
      "[4, 500] loss: 0.085\n",
      "[4, 600] loss: 0.098\n",
      "[4, 700] loss: 0.084\n",
      "[4, 800] loss: 0.069\n",
      "[4, 900] loss: 0.079\n",
      "[4, 1000] loss: 0.091\n",
      "[4, 1100] loss: 0.059\n",
      "[4, 1200] loss: 0.065\n",
      "[4, 1300] loss: 0.062\n",
      "[4, 1400] loss: 0.076\n",
      "[4, 1500] loss: 0.086\n",
      "[4, 1600] loss: 0.083\n",
      "[4, 1700] loss: 0.082\n",
      "[4, 1800] loss: 0.072\n",
      "[5, 100] loss: 0.062\n",
      "[5, 200] loss: 0.070\n",
      "[5, 300] loss: 0.054\n",
      "[5, 400] loss: 0.062\n",
      "[5, 500] loss: 0.082\n",
      "[5, 600] loss: 0.074\n",
      "[5, 700] loss: 0.069\n",
      "[5, 800] loss: 0.064\n",
      "[5, 900] loss: 0.058\n",
      "[5, 1000] loss: 0.062\n",
      "[5, 1100] loss: 0.063\n",
      "[5, 1200] loss: 0.075\n",
      "[5, 1300] loss: 0.061\n",
      "[5, 1400] loss: 0.066\n",
      "[5, 1500] loss: 0.057\n",
      "[5, 1600] loss: 0.062\n",
      "[5, 1700] loss: 0.050\n",
      "[5, 1800] loss: 0.059\n",
      "[6, 100] loss: 0.053\n",
      "[6, 200] loss: 0.065\n",
      "[6, 300] loss: 0.057\n",
      "[6, 400] loss: 0.053\n",
      "[6, 500] loss: 0.050\n",
      "[6, 600] loss: 0.051\n",
      "[6, 700] loss: 0.049\n",
      "[6, 800] loss: 0.058\n",
      "[6, 900] loss: 0.059\n",
      "[6, 1000] loss: 0.058\n",
      "[6, 1100] loss: 0.065\n",
      "[6, 1200] loss: 0.061\n",
      "[6, 1300] loss: 0.065\n",
      "[6, 1400] loss: 0.059\n",
      "[6, 1500] loss: 0.059\n",
      "[6, 1600] loss: 0.043\n",
      "[6, 1700] loss: 0.050\n",
      "[6, 1800] loss: 0.050\n",
      "[7, 100] loss: 0.052\n",
      "[7, 200] loss: 0.044\n",
      "[7, 300] loss: 0.060\n",
      "[7, 400] loss: 0.042\n",
      "[7, 500] loss: 0.051\n",
      "[7, 600] loss: 0.052\n",
      "[7, 700] loss: 0.056\n",
      "[7, 800] loss: 0.057\n",
      "[7, 900] loss: 0.064\n",
      "[7, 1000] loss: 0.049\n",
      "[7, 1100] loss: 0.043\n",
      "[7, 1200] loss: 0.044\n",
      "[7, 1300] loss: 0.051\n",
      "[7, 1400] loss: 0.039\n",
      "[7, 1500] loss: 0.047\n",
      "[7, 1600] loss: 0.050\n",
      "[7, 1700] loss: 0.056\n",
      "[7, 1800] loss: 0.043\n",
      "[8, 100] loss: 0.046\n",
      "[8, 200] loss: 0.042\n",
      "[8, 300] loss: 0.036\n",
      "[8, 400] loss: 0.048\n",
      "[8, 500] loss: 0.055\n",
      "[8, 600] loss: 0.043\n",
      "[8, 700] loss: 0.039\n",
      "[8, 800] loss: 0.037\n",
      "[8, 900] loss: 0.064\n",
      "[8, 1000] loss: 0.044\n",
      "[8, 1100] loss: 0.047\n",
      "[8, 1200] loss: 0.041\n",
      "[8, 1300] loss: 0.039\n",
      "[8, 1400] loss: 0.047\n",
      "[8, 1500] loss: 0.043\n",
      "[8, 1600] loss: 0.041\n",
      "[8, 1700] loss: 0.047\n",
      "[8, 1800] loss: 0.043\n",
      "[9, 100] loss: 0.037\n",
      "[9, 200] loss: 0.043\n",
      "[9, 300] loss: 0.031\n",
      "[9, 400] loss: 0.045\n",
      "[9, 500] loss: 0.044\n",
      "[9, 600] loss: 0.032\n",
      "[9, 700] loss: 0.038\n",
      "[9, 800] loss: 0.043\n",
      "[9, 900] loss: 0.031\n",
      "[9, 1000] loss: 0.045\n",
      "[9, 1100] loss: 0.044\n",
      "[9, 1200] loss: 0.037\n",
      "[9, 1300] loss: 0.042\n",
      "[9, 1400] loss: 0.039\n",
      "[9, 1500] loss: 0.048\n",
      "[9, 1600] loss: 0.049\n",
      "[9, 1700] loss: 0.040\n",
      "[9, 1800] loss: 0.051\n",
      "[10, 100] loss: 0.034\n",
      "[10, 200] loss: 0.045\n",
      "[10, 300] loss: 0.045\n",
      "[10, 400] loss: 0.040\n",
      "[10, 500] loss: 0.031\n",
      "[10, 600] loss: 0.033\n",
      "[10, 700] loss: 0.035\n",
      "[10, 800] loss: 0.043\n",
      "[10, 900] loss: 0.033\n",
      "[10, 1000] loss: 0.044\n",
      "[10, 1100] loss: 0.037\n",
      "[10, 1200] loss: 0.024\n",
      "[10, 1300] loss: 0.032\n",
      "[10, 1400] loss: 0.038\n",
      "[10, 1500] loss: 0.042\n",
      "[10, 1600] loss: 0.034\n",
      "[10, 1700] loss: 0.038\n",
      "[10, 1800] loss: 0.036\n",
      "Finished Training\n"
     ]
    }
   ],
   "source": [
    "for epoch in range(10):  # Number of epochs\n",
    "\n",
    "    running_loss = 0.0\n",
    "    for i, data in enumerate(trainloader, 0):\n",
    "        inputs, labels = data\n",
    "\n",
    "        # Zero the parameter gradients\n",
    "        optimizer.zero_grad()\n",
    "\n",
    "        # Forward pass\n",
    "        outputs = net(inputs)\n",
    "        loss = criterion(outputs, labels)\n",
    "        loss.backward()\n",
    "        optimizer.step()\n",
    "\n",
    "        # Print statistics\n",
    "        running_loss += loss.item()\n",
    "        if i % 100 == 99:  # Print every 100 mini-batches\n",
    "            print(f\"[{epoch + 1}, {i + 1}] loss: {running_loss / 100:.3f}\")\n",
    "            running_loss = 0.0\n",
    "\n",
    "print('Finished Training')"
   ]
  },
  {
   "cell_type": "markdown",
   "metadata": {},
   "source": [
    "# Evaluate"
   ]
  },
  {
   "cell_type": "code",
   "execution_count": 9,
   "metadata": {},
   "outputs": [
    {
     "name": "stdout",
     "output_type": "stream",
     "text": [
      "Accuracy of the network on the 10000 test images: 98.73%\n"
     ]
    }
   ],
   "source": [
    "correct = 0\n",
    "total = 0\n",
    "with torch.no_grad():\n",
    "    for data in testloader:\n",
    "        images, labels = data\n",
    "        outputs = net(images)\n",
    "        _, predicted = torch.max(outputs.data, 1)\n",
    "        total += labels.size(0)\n",
    "        correct += (predicted == labels).sum().item()\n",
    "\n",
    "print(f'Accuracy of the network on the 10000 test images: {100 * correct / total:.2f}%')"
   ]
  }
 ],
 "metadata": {
  "kernelspec": {
   "display_name": "pytorch",
   "language": "python",
   "name": "python3"
  },
  "language_info": {
   "codemirror_mode": {
    "name": "ipython",
    "version": 3
   },
   "file_extension": ".py",
   "mimetype": "text/x-python",
   "name": "python",
   "nbconvert_exporter": "python",
   "pygments_lexer": "ipython3",
   "version": "3.11.7"
  }
 },
 "nbformat": 4,
 "nbformat_minor": 2
}
